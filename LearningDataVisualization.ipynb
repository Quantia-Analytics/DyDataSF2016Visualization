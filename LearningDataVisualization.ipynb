{
 "cells": [
  {
   "cell_type": "markdown",
   "metadata": {},
   "source": [
    "# Python Visualization for Exploration of Data\n",
    "## Stephen Elston and Ronald Lopez\n",
    "## Presented at PyData San Francisco, August 2016  \n",
    "\n",
    "In these lessons we will be working with a data set containing the prices and characteristics of a number of automobiles. The ultimate goal is to build a model for predicting the price of a car from its characteristics. However, in this lesson we will focus on data exploration using visualization techniques. \n",
    "\n",
    "## About this Jupyter Notebook\n",
    "This notebook contains material to help you learn how to explore data visually. This notebook and the data set can be downloaded from GitHub:\n",
    "\n",
    "**https://github.com/Quantia-Analytics/DyDataSF2016Visualization**  \n",
    "\n",
    "This notebook was constructed using the Anconda 3.5 Python distribution. If you are not running version Anaconda 3.5 or higher, we suggest you update your Anaconda distribution now.  You can download the Python 3 Anaconda distribution for your operating system from the [Continum Analytics web site](https://www.continuum.io/downloads\n",
    "\n",
    "To run this notebook you need the Seaborn graphics packages. If you have not done so, you will need to install Seaborn as it is not in the Anaconda distribution as of now. From a command prompt on your computer type the following command. If no errors occur, you will have installed Seaborn.\n",
    "\n",
    "``pip install seaborn``\n",
    "\n",
    "\n",
    "## About Us\n",
    "\n",
    "These lessons have been prepared by:\n",
    "\n",
    "**Steve Elston**\n",
    "\n",
    "- Co-founder and principle consultant Quantia Analytics, LLC \n",
    "- Instructor, University of Washington data science program\n",
    "- O'Reilly author and creator of four edX data science courses\n",
    "- Decades of experience in predictive analytics and machine learning \n",
    "- Azure ML advisor to Microsoft\n",
    "- Experience in several industries: payment, telecom, capital markets, logistics\n",
    "- PhD, MS in Geophysics from Princeton University\n",
    "\n",
    "\n",
    "**Ronald Lopez**\n",
    "\n",
    "- Senior Research Analyst at San Jose-Evergreen Community College District\n",
    "- Board member of the California Association of Institutional Research\n",
    "- MA in Demography and Social Analysis from University of California, Irvine\n",
    "\n",
    "## About the data set\n",
    "\n",
    "This data set is from the [Univeristy of California Irving Machine Learning Repository](https://archive.ics.uci.edu/ml/datasets/Automobile)  The data was compiled by Jeffrey C. Schlimmer from the following sources:\n",
    "\n",
    "- 1985 Model Import Car and Truck Specifications, 1985 Ward's Automotive Yearbook. \n",
    "- Personal Auto Manuals, Insurance Services Office, 160 Water Street, New York, NY 10038 \n",
    "- Insurance Collision Report, Insurance Institute for Highway Safety, Watergate 600, Washington, DC 20037\n",
    "\n",
    "\n",
    "## Why visualization?\n",
    "\n",
    "Visualization is an essential method in any data scientist’s toolbox. Visualization is a key first step in the exploration of most data sets. As a general rule, you should never start creating models until you have examined the data and understand the relationships. Otherwise, you risk wasting your time creating models blindly. Visualization is also a powerful tool for presentation of results and for determining sources of problems with analytics. \n",
    "\n",
    "The concepts of exploring a data set visually were pioneered by John Tukey in the 1960s and 1970s. Tukey consolidated his many ideas on data exploration into a book in the late 1970s, ***John Tukey, Exploratory Data Analysis, 1977, Addison-Westley***.\n",
    "\n",
    "Bill Cleveland documented his seminal work in visualization of complex data sets in his book, ***William S. Cleveland, Visualizing Data, 1993, Hobart Press***.\n",
    "\n",
    "The key concept of exploratory data analysis (EDA) or visual exploration of data is to understand the relationships in the data set. Specifically using visualization when you approach a new data set you can:\n",
    "\n",
    "- Explore complex data sets, using visualization to develop understanding of the inherent relationships.\n",
    "- Use different chart types to create multiple views of data to highlight different aspects of the inherent relationships.\n",
    "- Use plot aesthetics to project multiple dimensions. \n",
    "- Apply conditioning or faceting methods to project multiple dimensions\n",
    "\n",
    "\n",
    "\n",
    "These lessons are divided into three parts. In each part you will learn how to use the visualization tools availble in Python.\n",
    "\n",
    "- **Overview of plot types** is a reivew of creating basic plot types used to construct visualizations.\n",
    "- **Using Aesthetics** is an overview of how to project additional plot dimensions using plot aesthetics.\n",
    "- **Facetted plotting** also know as conditioned plotting or lattice plotting introduces a powerful method for visualizing higher dimensional data. \n",
    "\n",
    "In these exercises, you will use both Pandas plotting and the Seaborn package. We assume you have at least a bit of experience using Pandas and Jupyter notebooks.  \n",
    "\n",
    "\n",
    "## Resources\n",
    "\n",
    "In this tutorial we will work with two powerful Python packages, Pandas and Seaborn. Both packages have extensive online documentation. There is an extensive tutorial on [**Visualizaton with Pandas**](http://pandas.pydata.org/pandas-docs/version/0.18.0/visualization.html).  The [**Seaborn tutorial**](https://stanford.edu/~mwaskom/software/seaborn/tutorial.html) contains many examples of data visualization. The matplotlib web site has addition [**resources for learning plotting with Python tools**](http://matplotlib.org/resources/index.html).\n",
    "\n",
    "\n",
    "## Load and examine the data set\n",
    "\n",
    "Let's get started. The function shown in the cell below loads the data from the .csv file. Some minimal clean up is performed on the data. Rows with missing values are dropped and some columns are converted from strings containing numbers to numeric data. \n",
    "\n",
    "Execute the code in this cell to load the data into your notebook. **Make sure you have the .csv file in your working directory!**"
   ]
  },
  {
   "cell_type": "code",
   "execution_count": null,
   "metadata": {
    "collapsed": false
   },
   "outputs": [],
   "source": [
    "def read_auto_data(fileName = \"Automobile price data.csv\"):\n",
    "    'Function to load the auto price data set from a .csv file' \n",
    "    import pandas as pd\n",
    "    import numpy as np\n",
    "\n",
    "    ## Read the .csv file with the pandas read_csv method\n",
    "    auto_prices = pd.read_csv(fileName)\n",
    "    \n",
    "    ## Remove rows with missing values, accounting for mising values coded as '?'\n",
    "    cols = ['price', 'bore', 'stroke', \n",
    "          'horsepower', 'peak-rpm']\n",
    "    for column in cols:\n",
    "        auto_prices.loc[auto_prices[column] == '?', column] = np.nan\n",
    "    auto_prices.dropna(axis = 0, inplace = True)\n",
    "\n",
    "    ## Convert some columns to numeric values\n",
    "    for column in cols:\n",
    "        auto_prices[column] = pd.to_numeric(auto_prices[column])\n",
    "#    auto_prices[cols] = auto_prices[cols].as_type(int64)\n",
    "        \n",
    "    return auto_prices\n",
    "auto_prices = read_auto_data()"
   ]
  },
  {
   "cell_type": "markdown",
   "metadata": {},
   "source": [
    "Using the Pandas ``head`` method let's have a first look at the columns in this data set. "
   ]
  },
  {
   "cell_type": "code",
   "execution_count": null,
   "metadata": {
    "collapsed": false
   },
   "outputs": [],
   "source": [
    "auto_prices.head()"
   ]
  },
  {
   "cell_type": "markdown",
   "metadata": {},
   "source": [
    "You can see there are both numerical and string (categorical) variable types. As a next step examine some summary statistics of the numeric columns using the Pandas ``describe`` method. Note that units of measurement are American not Metric.  "
   ]
  },
  {
   "cell_type": "code",
   "execution_count": null,
   "metadata": {
    "collapsed": false
   },
   "outputs": [],
   "source": [
    "auto_prices.describe()"
   ]
  },
  {
   "cell_type": "markdown",
   "metadata": {},
   "source": [
    "## Basic chart types\n",
    "\n",
    "Now that we have loaded and had a first look at the data, let's get to work making some charts. \n",
    "\n",
    "There are enumerable chart types that are used for data exploration. In this tutorial we focus on the most used chart types:\n",
    "\n",
    "- **Scatter plot**\n",
    "- **Line plots**\n",
    "- **Bar plots**\n",
    "- **Histograms**\n",
    "- **Box plots**\n",
    "- **Kernel Density Estimation Plots**\n",
    "- **Violin plots**\n",
    "\n",
    "### Scatter plots\n",
    "\n",
    "Scatter plots show the relationship between two variables in the form of dots on the plot. In simple terms, the values along a horizontal axis are plotted against a vertical axis. \n",
    "\n",
    "The Pandas package contains a number of useful plot methods which operate on data frames. The simple recipe for plotting from Pandas data frames is:\n",
    "\n",
    "- Use the plot method, specifing the ``kind`` argument, or use a chart-specific plot method.\n",
    "- Specify the columns with the values for the ``x`` and ``y`` axes. "
   ]
  },
  {
   "cell_type": "code",
   "execution_count": null,
   "metadata": {
    "collapsed": false
   },
   "outputs": [],
   "source": [
    "%matplotlib inline \n",
    "auto_prices.plot(kind = 'scatter', x = 'city-mpg', y = 'price')"
   ]
  },
  {
   "cell_type": "markdown",
   "metadata": {},
   "source": [
    "Our basic recipe worked, but it does not give us much control over the result. \n",
    "\n",
    "We take advantage of the fact that Pandas plot methods are built on matplotlib. Thus, we can specify a figure and one or more axes within that figure. We can control many plot attributes once we have specified the axes. Our improved recipe looks like this:\n",
    "\n",
    "- Specify a figure, including a size.\n",
    "- Define one or more axes within the figure.\n",
    "- Use the pandas plot method of choice. Make sure you specify the axis you are using. \n",
    "- Use methods on the axes to control attributes like titles and axis labels. "
   ]
  },
  {
   "cell_type": "code",
   "execution_count": null,
   "metadata": {
    "collapsed": false
   },
   "outputs": [],
   "source": [
    "import matplotlib.pyplot as plt\n",
    "fig = plt.figure(figsize=(10, 10)) # define plot area\n",
    "ax = fig.gca() # define axis                   \n",
    "auto_prices.plot(kind = 'scatter', x = 'city-mpg', y = 'price', ax = ax)\n",
    "ax.set_title('Scatter plot of price vs MPG') # Give the plot a main title\n",
    "ax.set_xlabel('City MPG') # Set text for the x axis\n",
    "ax.set_ylabel('Auto Price')# Set text for y axis"
   ]
  },
  {
   "cell_type": "markdown",
   "metadata": {},
   "source": [
    "In the plot above, we can see that the most costly cars have the lowest fuel efficiency, whereas relatively inexpensive cars are also more economical to drive. \n",
    "\n",
    "\n",
    "### Line plots\n",
    "\n",
    "Line plots are similar to point plots. In line plots the discrete points are connected by lines.\n",
    "\n",
    "First, we will create a dataframe, with a simple relationship between x and y."
   ]
  },
  {
   "cell_type": "code",
   "execution_count": null,
   "metadata": {
    "collapsed": false
   },
   "outputs": [],
   "source": [
    "import pandas as pd\n",
    "x = list(range(100))\n",
    "y = [z * z for z in range(100)]\n",
    "df = pd.DataFrame({'x':x, 'y':y})"
   ]
  },
  {
   "cell_type": "markdown",
   "metadata": {},
   "source": [
    "Now, apply the previous recipe to plot x vs y as a line chart."
   ]
  },
  {
   "cell_type": "code",
   "execution_count": null,
   "metadata": {
    "collapsed": false
   },
   "outputs": [],
   "source": [
    "fig = plt.figure(figsize=(10, 10)) # define plot area\n",
    "ax = fig.gca() # define axis                   \n",
    "df.plot(x = 'x', y = 'y', ax = ax) ## line is the default plot type\n",
    "ax.set_title('Line plot of x^2 vs. x') # Give the plot a main title\n",
    "ax.set_xlabel('x') # Set text for the x axis\n",
    "ax.set_ylabel('x^2')# Set text for y axis"
   ]
  },
  {
   "cell_type": "markdown",
   "metadata": {},
   "source": [
    "****\n",
    "#### Exercise\n",
    "\n",
    "Now that you have seen how to create some simple plots, its your turn to give this a try. Create the following scatter plot:\n",
    "\n",
    "- Plot ``engine-size`` against ``price``.\n",
    "- Set the figure size to 8 X 8.\n",
    "- Provide a meaningful title, x-axis label, and y-axis label. \n",
    "\n",
    "****"
   ]
  },
  {
   "cell_type": "markdown",
   "metadata": {},
   "source": [
    "### Bar plots\n",
    "\n",
    "Bar plots are used to display the counts of unique values of a categorical variable. The height of the bar represents the count for each unique category of the variable. \n",
    "\n",
    "It is unlikely that your pandas data frame includes counts by category of a variable. Thus, the first step in making a bar plot is to compute the counts. Fortunately, pandas has a ``value_counts`` method. The code below uses this method to create a new data frame containing the counts by ``make`` of the car. "
   ]
  },
  {
   "cell_type": "code",
   "execution_count": null,
   "metadata": {
    "collapsed": false
   },
   "outputs": [],
   "source": [
    "counts = auto_prices['make'].value_counts() # find the counts for each unique category\n",
    "counts"
   ]
  },
  {
   "cell_type": "markdown",
   "metadata": {},
   "source": [
    "You can see the ordered list of counts by make above. Notice that this data frame is much smaller than the original, since it only needs one row for each unique value of the make. \n",
    "\n",
    "Now, make the bar plot using the ``counts`` data frame, create the bar plot of number of autos by make. Notice, that the recipe for this chart is the same as we have used for scatter plots and line plots, just using the ``.plot.bar`` method. "
   ]
  },
  {
   "cell_type": "code",
   "execution_count": null,
   "metadata": {
    "collapsed": false
   },
   "outputs": [],
   "source": [
    "fig = plt.figure(figsize=(10,10)) # define plot area\n",
    "ax = fig.gca() # define axis    \n",
    "counts.plot.bar(ax = ax) # Use the plot.bar method on the counts data frame\n",
    "ax.set_title('Number of auto types by make') # Give the plot a main title\n",
    "ax.set_xlabel('Make') # Set text for the x axis\n",
    "ax.set_ylabel('Number of autos')# Set text for y axis"
   ]
  },
  {
   "cell_type": "markdown",
   "metadata": {},
   "source": [
    "The bar plot clearly shows which auto manufacturers have the largest number of models. The more specialized makes have relatively fewer models. \n",
    "\n",
    "### Histograms\n",
    "\n",
    "Histograms are related to bar plots. Histograms are used for numeric variables. Whereas, a bar plot shows the counts of unique categories, a histogram shows the number of data with values within a bin. The bins divide the values of the variable into equal segments. The vertical axis of the histogram shows the count of data values within each bin.  \n",
    "\n",
    "The code below follows our same basic recipe to create a histogram of ``engine-size``. Notice however, that the column of the data frame we wish to plot is specified by name as ``auto_prices['engine-size']``."
   ]
  },
  {
   "cell_type": "code",
   "execution_count": null,
   "metadata": {
    "collapsed": false
   },
   "outputs": [],
   "source": [
    "fig = plt.figure(figsize=(10,10)) # define plot area\n",
    "ax = fig.gca() # define axis    \n",
    "auto_prices['engine-size'].plot.hist(ax = ax) # Use the plot.hist method on subset of the data frame\n",
    "ax.set_title('Histogram of auto engine size') # Give the plot a main title\n",
    "ax.set_xlabel('Engine size') # Set text for the x axis\n",
    "ax.set_ylabel('Number of autos')# Set text for y axis"
   ]
  },
  {
   "cell_type": "markdown",
   "metadata": {},
   "source": [
    "The histogram shows that the distibution of engine size is skewed toward small engines. There are also a few autos with very large engines, which appear as outliers. \n",
    "\n",
    "### Box plots\n",
    "\n",
    "Box plots, also known as box and wisker plots, were introduced by John Tukey in 1970. Box plots are another way to visualize the distribution of data values. In this respect, box plots are comparable to histograms, but are quite different in presentation. \n",
    "\n",
    "On a box plot the median value is shown with a dark bar. The inner two qartiles of data values are contained within the 'box'. The 'wiskers' enclose the majority of the data. Outliers are shown by symbols byond the wiskers.\n",
    "\n",
    "Several box plots can be stacked along an axis. The data are divided using a 'group by' operation, and the box plots for each group are stacked next to each other. In this way, the box plot allows you to display two dimensions of your data set. \n",
    "\n",
    "The code in the cell below generally follows the recipe we have been using. The data frame is subsetted to two columns. One column contains the numeric values to plot and the other column is the group by variable. In this case, the group by variable is specified with the ``by = 'fuel-type'`` argument. "
   ]
  },
  {
   "cell_type": "code",
   "execution_count": null,
   "metadata": {
    "collapsed": false
   },
   "outputs": [],
   "source": [
    "fig = plt.figure(figsize=(10,10)) # define plot area\n",
    "ax = fig.gca() # define axis    \n",
    "auto_prices[['engine-size','fuel-type']].boxplot(by = 'fuel-type', ax = ax) # Use the plot.bar method on the new data frame\n",
    "ax.set_title('Box plots of auto engine size by fule type') # Give the plot a main title\n",
    "ax.set_xlabel('Fuel type') # Set text for the x axis\n",
    "ax.set_ylabel('Engine size')# Set text for y axis"
   ]
  },
  {
   "cell_type": "markdown",
   "metadata": {},
   "source": [
    "Examine the plot above and notice the differences in the distribution of engine size by fuel type. There is considerable overlap in the inter-quartile range (the range within the boxes), with gas cars having generally smaller engines. The median engine size (the red bar) for gas cars is noticeably lower than for diesel cars. However, the range of engine sizes for gas cars is greater, including a few outliers. It is likely, these are the outliers we saw in the histogram. \n",
    "\n",
    "### Kernel density plots and introduction to Seaborn\n",
    "\n",
    "Up until now we have been working exclusively with the plotting methods in pandas. We will now start working with the Seaborn package.  Seaborn is a newer Python package which abstracts lower level matplotlib charts. Saborn also includes some additional cutting-edge chart types.\n",
    "\n",
    "If you have not done so, you will need to install Seaborn as it is not in the Anaconda distribution as of now. From a command prompt on your computer, type the following command. If no errors occur, you will have installed Seaborn. \n",
    "\n",
    "``pip install seaborn``\n",
    "\n",
    " Kernel density plots are similar in concept to a histogram. A kernel density plot displays the values of a smoothed density curve of the data values. In other words, the kernel density plot is a smoothed version of a histogram.\n",
    " \n",
    " The code in the cell below creates a violin plot using the following recipe:\n",
    " \n",
    " - Import the Seaborn package,\n",
    " - Set a style for the plot grid.\n",
    " - Define the ``kdeplot`` of the engine-size column.\n",
    " \n",
    " ****\n",
    " **Note:** Depending on your platform and versions of Numpy, you may see a deprication warning. You can safely ignore this warning. \n",
    " ****"
   ]
  },
  {
   "cell_type": "code",
   "execution_count": null,
   "metadata": {
    "collapsed": false
   },
   "outputs": [],
   "source": [
    "import seaborn as sns\n",
    "sns.set_style(\"whitegrid\")\n",
    "sns.kdeplot(auto_prices['engine-size'])"
   ]
  },
  {
   "cell_type": "markdown",
   "metadata": {},
   "source": [
    "The KDE plot results are similar to what we observed with the histogram of engine size. Engine size is skewed toward the small size, and there are outliers of a few cars with large engines clearly visible. \n",
    "\n",
    "As we did with pandas plots, we control the properties of a Seaborn plot by specifing axes. The code in the cell below extends our simple recipe for Seaborn plots:\n",
    "\n",
    "- Define a figure.\n",
    "- Define one or more axes on the figure.\n",
    "- Set a style for the plot grid.\n",
    "- Define the ``kdeplot`` of the engine-size column.\n",
    "- Use methods on the axes to control attributes like titles and axis labels."
   ]
  },
  {
   "cell_type": "code",
   "execution_count": null,
   "metadata": {
    "collapsed": false
   },
   "outputs": [],
   "source": [
    "fig = plt.figure(figsize=(10,10)) # define plot area\n",
    "ax = fig.gca() # define axis \n",
    "sns.set_style(\"whitegrid\")\n",
    "sns.kdeplot(auto_prices['engine-size'], ax = ax)\n",
    "ax.set_title('KDE plot of auto engine size') # Give the plot a main title\n",
    "ax.set_xlabel('Engine Size') # Set text for the x axis\n",
    "ax.set_ylabel('Density')# Set text for y axis"
   ]
  },
  {
   "cell_type": "markdown",
   "metadata": {},
   "source": [
    "We can also create a two dimensional KDE plot. The code in the cell below creates a two dimensional kde plot of price and engine size following the same recipe. "
   ]
  },
  {
   "cell_type": "code",
   "execution_count": null,
   "metadata": {
    "collapsed": false
   },
   "outputs": [],
   "source": [
    "fig = plt.figure(figsize=(10,10)) # define plot area\n",
    "ax = fig.gca() # define axis \n",
    "sns.set_style(\"whitegrid\")\n",
    "sns.kdeplot(auto_prices[['engine-size', 'price']], ax = ax, cmap=\"Blues_d\")\n",
    "ax.set_title('KDE plot of auto engine size and price') # Give the plot a main title\n",
    "ax.set_xlabel('Engine Size') # Set text for the x axis\n",
    "ax.set_ylabel('Price')# Set text for y axis"
   ]
  },
  {
   "cell_type": "markdown",
   "metadata": {},
   "source": [
    "We can clearly see that there is a single strong mode for both auto price and engine size. There is a skew of both variables toward lower cost cars with smaller engines. \n",
    "\n",
    "### Violin plots\n",
    "\n",
    "Next, we will use Seaborn to create a violin plot. A violin plot combines attributes of boxplots and a kernel density estimation plot. Like a box plot, the violin plots can be stacked, with a group by operation. However, the violin plot provides a kernel density estimate for each group. As with the box plot, violin plots allow you to display two dimensions of your data set.\n",
    "\n",
    "The code in the cell below follows the recipe we have laid out for Seaborn plotting. The ``sns.violinplot`` method has more arguments than the kdeplot method. \n",
    "\n",
    "- The columns used for the plot are set with the ``x`` and ``y`` arguments. \n",
    "- The ``x`` column is the group by variable.\n",
    "- The ``data`` argument specifies a pandas data frame or a numpy array."
   ]
  },
  {
   "cell_type": "code",
   "execution_count": null,
   "metadata": {
    "collapsed": false
   },
   "outputs": [],
   "source": [
    "fig = plt.figure(figsize=(10,10)) # define plot area\n",
    "ax = fig.gca() # define axis \n",
    "sns.set_style(\"whitegrid\")\n",
    "sns.violinplot(x = 'fuel-type', y = 'engine-size', data = auto_prices, ax = ax)\n",
    "ax.set_title('Violine plots of auto engine size by fule type') # Give the plot a main title\n",
    "ax.set_xlabel('Fuel type') # Set text for the x axis\n",
    "ax.set_ylabel('Engine size')# Set text for y axis"
   ]
  },
  {
   "cell_type": "markdown",
   "metadata": {},
   "source": [
    "The differences in the distribution of engine sizes between gas and diesel cars are clearly visible in the violin plots. We can confirm that the engine size of gas cars is skewed to the small size. There are some gas cars with very small engine sizes and a number of autos that appear as outliers with large engines. The distibution of diesel engine sizes is more uniform. \n",
    "\n",
    "## Viewing multiple dimensions with aesthetics\n",
    "\n",
    "We have now explored some basic plot types. All the plots we have created so far are projected onto a two dimensional surface. Thus, we have been limited to visualization of only two dimensions of our data set. \n",
    "\n",
    "Now, we will use plot aesthetics to view additional dimensions of the data set. Specific aesthetics are used to project additonal dimensions onto a two dimensional plot surface. Additionally, carefull choice of plot aesthetics can highlight certain aspects of a data set you are exploring.   \n",
    "\n",
    "There are many possible aesthetics one can use for visualization. Specific examples we will work with here include:\n",
    "\n",
    "- Color\n",
    "- Transparency\n",
    "- Size\n",
    "- Marker shape\n",
    "- Aesthetics specific to plot type\n",
    "\n",
    "Using aesthetics with a bit of cleverness can lead to interesting insights about a data set. Don't over do it! Too many colors, shapes and sizes can be confusing, obfuscating rather than enlightening. \n",
    "\n",
    "### Color\n",
    "\n",
    "Color can be used to view an additional dimension on a scatter plot. A categorical factor can be shown using different colors for the different categories. \n",
    "\n",
    "*****\n",
    "**Caution!** Make sure you use choose a palette with distinctive colors for each cateogry. Too many categories using similar colors are invariably hard to see and imposible to interpret. \n",
    "****\n",
    "\n",
    "The code in the cell below uses the ``hue`` argument to add a third dimension, ``fuel-type`` to a scatter plot. A color palette is also specified. "
   ]
  },
  {
   "cell_type": "code",
   "execution_count": null,
   "metadata": {
    "collapsed": false
   },
   "outputs": [],
   "source": [
    "sns.lmplot(x = 'city-mpg', y = 'price', data = auto_prices, hue = \"fuel-type\", palette=\"Set2\", fit_reg = False)     "
   ]
  },
  {
   "cell_type": "markdown",
   "metadata": {},
   "source": [
    "In the above plot we can see that a diesel car is generally more costly at a given fuel efficiency. We can also see that all of the least efficient and most expensive cars have gas engines. \n",
    "\n",
    "If we are willing to create more code, we can gain a great deal more control over plot aesthetics. The code in the function shown below divides the data into subsets and plots them with different aesthetics on the same set of axes. The recipe is:\n",
    "\n",
    "- Import the required packages\n",
    "- Loop over a list of column names for the horizontal axis. In this example we only specify one.\n",
    "- Define a figure and axes for the plot\n",
    "- Subset the data by ``gas`` and ``diesel`` cars.\n",
    "- If the subset has more than zero members create scatter plots with the aesthetics defined. In this case, the attribute is color defined as either ``DarkBlue`` or ``Red``.\n",
    "- Create a list of patches and display the patches for the ledgend. "
   ]
  },
  {
   "cell_type": "code",
   "execution_count": null,
   "metadata": {
    "collapsed": false
   },
   "outputs": [],
   "source": [
    "def auto_color(df, plot_cols):\n",
    "    import matplotlib.pyplot as plt\n",
    "    import matplotlib.patches as mpatches\n",
    "    for col in plot_cols:\n",
    "        fig = plt.figure(figsize=(10, 10))\n",
    "        ax = fig.gca()\n",
    "        temp1 = df.ix[df['fuel-type'] == 'gas']       \n",
    "        temp2 = df.ix[df['fuel-type'] == 'diesel']\n",
    "        if temp1.shape[0] > 0:                    \n",
    "            temp1.plot(kind = 'scatter', x = col, y = 'price' , \n",
    "                           ax = ax, color = 'DarkBlue')                          \n",
    "        if temp2.shape[0] > 0:                    \n",
    "            temp2.plot(kind = 'scatter', x = col, y = 'price' , \n",
    "                           ax = ax, color = 'Red') \n",
    "    ax.set_title('Scatter plot of price vs. ' + col)\n",
    "    red_patch = mpatches.Patch(color='Red', label='Diesel')   \n",
    "    blue_patch = mpatches.Patch(color='DarkBlue', label='Gas')\n",
    "    plt.legend(handles=[red_patch, blue_patch])\n",
    "    return 'Done'\n",
    "auto_color(auto_prices, ['city-mpg'])"
   ]
  },
  {
   "cell_type": "markdown",
   "metadata": {},
   "source": [
    "The above scatter plot is similar to the previous one. Notice that the colors are more distinctive. A similar effect can be achieved with Seaborn plots by choosing another color palette. \n",
    "\n",
    "### Transparency\n",
    "\n",
    "In the scatter plot above, notice there are areas on the plot with dense clusters of points. In particular, there are overlapping points for gas cars with city mpg between 19 and 31 (mpg is apparently reported in integer units). \n",
    "\n",
    "Because of the 'over-plotting' effect is hard to see just how many cars are represented in some regions of the plot. Transparency, is a useful aesthetic to overcome over-plotting. Transparency is defined on a scale from 0 (completely transparent, or invisible) to 1 (perfectly opaque). By choosing reasonable transparency values, you can get a feel for how many points are clustered in a small area of a plot. \n",
    "\n",
    "The code in the cell below follows the aforementioned recipe. A transparency argument, ``alpha``, has been added. "
   ]
  },
  {
   "cell_type": "code",
   "execution_count": null,
   "metadata": {
    "collapsed": false
   },
   "outputs": [],
   "source": [
    "def auto_color(df, plot_cols):\n",
    "    import matplotlib.pyplot as plt\n",
    "    import matplotlib.patches as mpatches\n",
    "    for col in plot_cols:\n",
    "        fig = plt.figure(figsize=(10, 10))\n",
    "        ax = fig.gca()\n",
    "        temp1 = df.ix[df['fuel-type'] == 'gas']       \n",
    "        temp2 = df.ix[df['fuel-type'] == 'diesel']\n",
    "        if temp1.shape[0] > 0:                    \n",
    "            temp1.plot(kind = 'scatter', x = col, y = 'price' , \n",
    "                           ax = ax, color = 'DarkBlue', alpha = 0.3)                          \n",
    "        if temp2.shape[0] > 0:                    \n",
    "            temp2.plot(kind = 'scatter', x = col, y = 'price' , \n",
    "                           ax = ax, color = 'Red', alpha = 0.3) \n",
    "        ax.set_title('Scatter plot of price vs. ' + col)\n",
    "        red_patch = mpatches.Patch(color='Red', label='Diesel')   \n",
    "        blue_patch = mpatches.Patch(color='DarkBlue', label='Gas')\n",
    "        plt.legend(handles=[red_patch, blue_patch])\n",
    "    return plot_cols\n",
    "auto_color(auto_prices, ['city-mpg'])"
   ]
  },
  {
   "cell_type": "markdown",
   "metadata": {},
   "source": [
    "With the transparency set to 0.3, you can now better see the density of autos in areas of the plot with significant overplotting. Notice, how changing this aesthetic changes your view of the distributon of data on the city mpg versus price projection. Most gas cars are clustered in a small range of price and fuel efficiency.\n",
    "\n",
    "****\n",
    "#### Exercise\n",
    "So far in our exploration of the automotive data with scatter plots we have focused on the relationship between price and city mpg. In this exercise you will create plots for some additional columns:\n",
    "\n",
    "- Create a new code cell.\n",
    "- Copy the code from the code cell above into the new cell.\n",
    "- Change at least one of the color choices.\n",
    "- Call the ``auto_color`` function with a list of different columns: ``['engine-size', 'curb-weight']``.\n",
    "- Examine the resulting plots. What can you learn from these plots? \n",
    "\n",
    "****"
   ]
  },
  {
   "cell_type": "markdown",
   "metadata": {},
   "source": [
    "### Using marker size\n",
    "\n",
    "Another aesthetic which can project an additional dimension onto a two dimensional plot is marker size. The code in the cell below uses the scaled size of the marker to indicate engine size. "
   ]
  },
  {
   "cell_type": "code",
   "execution_count": null,
   "metadata": {
    "collapsed": false
   },
   "outputs": [],
   "source": [
    "\n",
    "def auto_size(df, plot_cols):\n",
    "    import matplotlib.pyplot as plt\n",
    "    import matplotlib.patches as mpatches\n",
    "    for col in plot_cols:\n",
    "        fig = plt.figure(figsize=(10, 10))\n",
    "        ax = fig.gca()\n",
    "        temp1 = df.ix[df['fuel-type'] == 'gas']       \n",
    "        temp2 = df.ix[df['fuel-type'] == 'diesel']\n",
    "        if temp1.shape[0] > 0:                    \n",
    "            temp1.plot(kind = 'scatter', x = col, y = 'price' , \n",
    "                           ax = ax, color = 'DarkBlue', s= .5 * auto_prices['engine-size'], alpha = 0.3)                          \n",
    "        if temp2.shape[0] > 0:                    \n",
    "            temp2.plot(kind = 'scatter', x = col, y = 'price' , \n",
    "                           ax = ax, color = 'Red', s= .5 * auto_prices['engine-size'], alpha = 0.3) \n",
    "    ax.set_title('Scatter plot of price vs. ' + col + ' with engine size')\n",
    "    red_patch = mpatches.Patch(color='Red', label='Diesel')   \n",
    "    blue_patch = mpatches.Patch(color='DarkBlue', label='Gas')\n",
    "    plt.legend(handles=[red_patch, blue_patch])\n",
    "    return plot_cols\n",
    "auto_size(auto_prices, ['city-mpg'])    "
   ]
  },
  {
   "cell_type": "markdown",
   "metadata": {},
   "source": [
    "Examine the above plot noticing the different marker sizes. With larger markers, setting transparency is more necessary than ever. \n",
    "\n",
    "You may notice that the difference in engine size is not always apparent in the above plot. Using marker size can be a bit tricky. Another option is to use the square of the value being projected to determine marker size. The area of the marker is then proportional to the value of interest, rather than the less noticeable marker size. \n",
    "\n",
    "The code in the cell below use the square of engine size to determine marker size.  "
   ]
  },
  {
   "cell_type": "code",
   "execution_count": null,
   "metadata": {
    "collapsed": false
   },
   "outputs": [],
   "source": [
    "\n",
    "def auto_size_2(df, plot_cols):\n",
    "    import matplotlib.pyplot as plt\n",
    "    import matplotlib.patches as mpatches\n",
    "    for col in plot_cols:\n",
    "        fig = plt.figure(figsize=(10, 10))\n",
    "        ax = fig.gca()\n",
    "        temp1 = df.ix[df['fuel-type'] == 'gas']       \n",
    "        temp2 = df.ix[df['fuel-type'] == 'diesel']\n",
    "        if temp1.shape[0] > 0:                    \n",
    "            temp1.plot(kind = 'scatter', x = col, y = 'price' , \n",
    "                           ax = ax, color = 'DarkBlue', s= .02 * auto_prices['engine-size'] * auto_prices['engine-size'], \n",
    "                       alpha = 0.3)                          \n",
    "        if temp2.shape[0] > 0:                    \n",
    "            temp2.plot(kind = 'scatter', x = col, y = 'price' , \n",
    "                           ax = ax, color = 'Red', s= .02 * auto_prices['engine-size']  * auto_prices['engine-size'], \n",
    "                       alpha = 0.3) \n",
    "    ax.set_title('Scatter plot of price vs. ' + col + ' with engine size')\n",
    "    red_patch = mpatches.Patch(color='Red', label='Diesel')   \n",
    "    blue_patch = mpatches.Patch(color='DarkBlue', label='Gas')\n",
    "    plt.legend(handles=[red_patch, blue_patch])\n",
    "    return 'Done'\n",
    "auto_size_2(auto_prices, ['city-mpg']) "
   ]
  },
  {
   "cell_type": "markdown",
   "metadata": {},
   "source": [
    "Examine the above plot. Notice that the differences in engine size are much more apparent when we use area to determine marker size. \n",
    "\n",
    "### Using marker shapes\n",
    "\n",
    "Marker shape can be used to project an additonal dimension onto a two dimensional plotting surface. Typically, different marker shapes are used to indicate the categories of a categorical variable. As with other aesthetics, don't over do it. Too many similar markers on a chart will only obfuscate the relationships you are trying to show. \n",
    "\n",
    "The code in the cell below uses different marker shapes to indicate standard and turbo aspiration cars. "
   ]
  },
  {
   "cell_type": "code",
   "execution_count": null,
   "metadata": {
    "collapsed": false
   },
   "outputs": [],
   "source": [
    "def auto_shape(df):\n",
    "    import matplotlib.pyplot as plt\n",
    "    import matplotlib.lines as mlines\n",
    "    aspiration = ['turbo', 'turbo', 'std', 'std']\n",
    "    fuel = ['diesel', 'gas', 'diesel', 'gas']\n",
    "    mrks = ['o', 'o', '+', '+']\n",
    "    cols = ['Red', 'DarkBlue', 'Red', 'DarkBlue']\n",
    "    ldg = []\n",
    "    fig = plt.figure(figsize=(10, 10))\n",
    "    ax = fig.gca()\n",
    "    for asp, fl, mk, cl in zip(aspiration, fuel, mrks, cols):\n",
    "        temp = df.ix[(df['aspiration'] == asp) & (df['fuel-type'] == fl)]       \n",
    "        if temp.shape[0] > 0:                    \n",
    "            temp.plot(kind = 'scatter', x = 'city-mpg', y = 'price' , ax = ax, color = cl, marker = mk,\n",
    "                       s= .02 * df['engine-size'] * df['engine-size'], alpha = 0.5)    \n",
    "        ldg.append(mlines.Line2D([], [], color=cl, marker=mk, markersize=10, \n",
    "                                 label=(asp + ' and ' + fl)))    \n",
    "    ax.set_title('Scatter plot of price vs. city mpg with marker size = engine size')\n",
    "    plt.legend(handles=ldg)\n",
    "    return'Done'\n",
    "auto_shape(auto_prices)"
   ]
  },
  {
   "cell_type": "markdown",
   "metadata": {},
   "source": [
    "The above plot projects five dimensions onto the two dimensional plot surface: price, city mpg, engine size, aspiration type, and fuel type. It takes some time and effort to fully understand all of the information provided. \n",
    "\n",
    "Some conclusions we can draw from the chart above include:\n",
    "\n",
    "- The most expensive cars have larger, standard aspiration, gas engines. \n",
    "- Most diesel cars use tubo aspiration and these tend to be more expensive. \n",
    "- Turbo aspiration gas engine cars are in the low range of fuel efficiency, but in the middle of the price range. \n",
    "- Some lower cost cars have large gas engines. \n",
    "\n",
    "### Plot specific aesthetics - Histogram bins\n",
    "\n",
    "We have used some fairly general aesthetics to bring forth relationships in our dataset. We will now look at some additional aesthetics which tend to be more chart type specific. \n",
    "\n",
    "As a first example, we will examine the effect of changing the number of bins in a histogram. The code below plots the histogram of engine size using different numbers of bins; the default of 10 bins and 40 bins. This is also the first time we have placed multiple sets of axes on the same figure. The first line of code defines two subplots in one row on the figure.  "
   ]
  },
  {
   "cell_type": "code",
   "execution_count": null,
   "metadata": {
    "collapsed": false
   },
   "outputs": [],
   "source": [
    "fig, ax = plt.subplots(1, 2, figsize = (16, 6))\n",
    "auto_prices['engine-size'].plot.hist(ax = ax[0]) \n",
    "ax[0].set_title('Histogram of auto engine size with 10 bins') # Give the plot a main title\n",
    "ax[0].set_xlabel('Engine size') # Set text for the x axis\n",
    "ax[0].set_ylabel('Number of autos')# Set text for y axis\n",
    "auto_prices['engine-size'].plot.hist(ax = ax[1], bins = 40) \n",
    "ax[1].set_title('Histogram of auto engine size with 40 bins') \n",
    "ax[1].set_xlabel('Engine size') \n",
    "ax[1].set_ylabel('Number of autos')"
   ]
  },
  {
   "cell_type": "markdown",
   "metadata": {},
   "source": [
    "Notice that the histogram with 10 bins gives a smoother result, which may be better for obtaining an overall impression of the distribution. The histogram with 40 bins shows more detail, particularly for the outliers. \n",
    "\n",
    "### Plot specific aesthetics - Split violin plot\n",
    "\n",
    "The violin plots supported in Seaborn, allow you to group the data by a binary categorical variable. In the code shown below, the ``hue`` argument is used to show the KDEs of standard and turbo aspiration cars, for grouped by the ``x`` axis variable of fuel type. The resulting plot shows three dimensions: price, fuel type and aspiration. "
   ]
  },
  {
   "cell_type": "code",
   "execution_count": null,
   "metadata": {
    "collapsed": false
   },
   "outputs": [],
   "source": [
    "import seaborn as sns\n",
    "sns.set_style(\"whitegrid\")\n",
    "sns.violinplot(data = auto_prices, x = 'fuel-type', y = 'price', hue=\"aspiration\",  split=True)"
   ]
  },
  {
   "cell_type": "markdown",
   "metadata": {},
   "source": [
    "From the plot above, we can see that standard aspiration gas engine cars have the widest range of prices. We can also see that diesel cars tend to be more expensive. Finally both gas and diesel engine cars with standard aspiration have prices skewed to the lower side. \n",
    "\n",
    "### Plot specific aesthetics - Box plots\n",
    "\n",
    "Using Seaborn we can add group data for box plots by ``hue``, much as we just did with violin plots. The code below uses the ``hue`` aesthetic to group the cars by body style. As before, the ``x`` axis groups the autos by fuel type. "
   ]
  },
  {
   "cell_type": "code",
   "execution_count": null,
   "metadata": {
    "collapsed": false
   },
   "outputs": [],
   "source": [
    "sns.set_style(\"whitegrid\")\n",
    "sns.boxplot(data = auto_prices, x = 'fuel-type', y = 'price', hue=\"body-style\")"
   ]
  },
  {
   "cell_type": "markdown",
   "metadata": {},
   "source": [
    "Examine the plot, noticing several interesting relationships including:\n",
    "\n",
    "- Gas hardtops have the widest range of price, followed by gas convertibles. \n",
    "- There are few available body styles for diesel cars. \n",
    "- Gas hatchbacks are generally the lowest cost cars, follow by gas and diesel sedans.\n",
    "- There are two diesel cars with unique body types. A different plot or a simple subsetting of the data is required to indentify these body types.\n",
    "\n",
    "****\n",
    "#### Exercise\n",
    "You have now seen a number of examples of using plot aesthetics to highlight various relationships in the data set. You can continue to explore the data set using aesthetics. Try the following:\n",
    "\n",
    "- Create a new code cell below.\n",
    "- Copy the code used for the previous violin plot into the new cell.\n",
    "- Change the ``x`` group by variable to ``'drive-wheels'``.\n",
    "- Examine the resulting plot. What new information is now apparent? \n",
    "****"
   ]
  },
  {
   "cell_type": "markdown",
   "metadata": {},
   "source": [
    "## Multi-axis and Facet Plots\n",
    "\n",
    "We have explored basic plot types and using aesthetics to project multiple dimensions onto basic plot types. Now we will investige the use of multiple plot axes and of a technique known as faceting. Faceting involves using values of categorical or numeric variables to create a systematic grid of related plots. Faceting goes by several other monikers, including conditioned plotting or lattice plotting. \n",
    "\n",
    "We will now explore several aspects of these: \n",
    "\n",
    "- Pair plots with marginal density\n",
    "- Pairwise scatter plots\n",
    "- Multi-axes plots\n",
    "- Faceted plots\n",
    "\n"
   ]
  },
  {
   "cell_type": "markdown",
   "metadata": {},
   "source": [
    "### Pair plot with marginal density\n",
    "\n",
    "A simple multi-axis plot type is a scatter plot with the marginal density of each diminsion shown along either the horizontal or vertical axis.\n",
    "\n",
    "The code in the cell below uses the Seaborn ``jointplot`` method to create just such a plot. The columns to be plotted on the x and y axis, along with the name of a pandas data frame or numpy array are specified as arguments. The transparency argument ``alpha`` is specified to deal with overplotting. "
   ]
  },
  {
   "cell_type": "code",
   "execution_count": null,
   "metadata": {
    "collapsed": false
   },
   "outputs": [],
   "source": [
    "sns.set_style(\"whitegrid\")\n",
    "sns.jointplot('engine-size', 'price', data = auto_prices, alpha = 0.3)"
   ]
  },
  {
   "cell_type": "markdown",
   "metadata": {},
   "source": [
    "The above plot shows the relationship between price and engine size. The marginal distribution of price is shown along the y axis and the marginal distribution of engine size is shown along the x axis. \n",
    "\n",
    "### Pair wise plots\n",
    "\n",
    "Pair wise plots, also know as plot matrices, allow us to view multiple dimensions of a data set on one plot. A scatter plot is shown of each variable versus all other variables, arranged in an array. Another type of plot, such as a KDE plot, can be shown for each pair of variables. Other plot types can be placed along the diagonal of the array. \n",
    "\n",
    "Code to create a pair wise scatter plot for certain variables in the auto price data set is shown in the cell below. The recipe is:\n",
    "\n",
    "- Define a list of the columns we wish to display.\n",
    "- Use the Seaborn ``pairplot`` method to display the pairwise scatter plots of the subset of the pandas data frame or numpy array. The ``map_upper`` method is used to add KDE plots to the upper part of the plot array. \n",
    "- An argument to ``pairplot`` defines a color palette.\n",
    "- An argument to ``pairplot`` defines KDE plots be placed along the diagonal of the array. "
   ]
  },
  {
   "cell_type": "code",
   "execution_count": null,
   "metadata": {
    "collapsed": false
   },
   "outputs": [],
   "source": [
    "num_cols = [\"length\", \"curb-weight\", \"engine-size\", \"horsepower\", \"city-mpg\", \"price\", \"fuel-type\"] \n",
    "sns.pairplot(auto_prices[num_cols], hue='fuel-type', palette=\"Set2\", diag_kind=\"kde\", size=2).map_upper(sns.kdeplot, cmap=\"Blues_d\")"
   ]
  },
  {
   "cell_type": "markdown",
   "metadata": {},
   "source": [
    "There is a great deal of information on the above plot. Examine this plot, noticing at least the following:\n",
    "\n",
    "- There are KDE plots grouped by fuel type for each of the variables specified. \n",
    "- Autos with larger length, curb weight, engine size, and horse power are more expensive.\n",
    "- Cars with higher curb weights tend to be longer and have larger engines. \n",
    "- Longer, heavier cars, have larger engines, or more horsepower and are less fuel efficient.  \n",
    "\n",
    "### Multi-axis plots\n",
    "\n",
    "In a previous exercise you created a first plot with multiple sets of axes. We will now extend this concept to a two dimensional array of axes. Data plotted in each cell on the grid can be subsetted or grouped by one or more variables. Thus, the two dimensional grid is a method for projecting at least two additonal dimensions of the data set onto the two dimensional plot surface.  \n",
    "\n",
    "The function defined in the cell below creates a two dimensional array of histograms. The recipe for this function is:\n",
    "\n",
    "- Define four arguments for the funciton, the pandas data frame, the column to plot in the histograms, the variable to group by in the horizontal direction and the varible to group by in the vertical direction. \n",
    "- A figure with a 2x2 array of axes is defined.\n",
    "- The unique values of the x and y axes group by variables are obtained.\n",
    "- A pair of loops interate over the unique values of the x and y axes group by variables.\n",
    "- The data are subset by the values of the x and y axes group by variables, and the plot method exectued. Note a single element of the axes array is used for each plot.\n",
    "- Other attributes are defined for the axes set being plotted.  "
   ]
  },
  {
   "cell_type": "code",
   "execution_count": null,
   "metadata": {
    "collapsed": false
   },
   "outputs": [],
   "source": [
    "def plot_multi(df, col, xcol, ycol):\n",
    "    fig, ax = plt.subplots(2, 2, figsize = (12, 12))\n",
    "    xcols = df[xcol].unique()\n",
    "    ycols = df[ycol].unique()\n",
    "    for i, xcl in enumerate(xcols):\n",
    "        for j, ycl in enumerate(ycols):\n",
    "            auto_prices.ix[(df[xcol] == xcl) & (df[ycol] == ycl), col].plot.hist(ax = ax[i,j], bins = 30)\n",
    "            ax[i,j].set_title('Histogram of ' + col + ' with ' + xcol + ' = ' + xcl + '\\n and ' + ycol + ' = ' + ycl) \n",
    "            ax[i,j].set_xlabel(col) \n",
    "plot_multi(auto_prices, 'price', 'aspiration', 'fuel-type')            "
   ]
  },
  {
   "cell_type": "markdown",
   "metadata": {},
   "source": [
    "Examine these plots and notice the following:\n",
    " - The price of standard aspiration cars is skewed to the low end.\n",
    " - The price of turbo aspriation cars is fairly uniform over a wide range. \n",
    "\n",
    "\n",
    "### Facet plots\n",
    "\n",
    "We created the previous plots by explicitly defining the axes array. The Seaborn package allows us to create the same time of faceted plots with much less code, but with a bit less control. The code in the cell below does just this, following this recipe:\n",
    "\n",
    "- A ``FacetGrid`` is defined for the data set. In this case we have only one facet (group by variable), across columns. \n",
    "- The ``map`` method is applied to the facet grid with a plot type specified.\n",
    "- In this case, the the plot type uses the ``regplot`` method to create a scatter plot. "
   ]
  },
  {
   "cell_type": "code",
   "execution_count": null,
   "metadata": {
    "collapsed": false
   },
   "outputs": [],
   "source": [
    "g = sns.FacetGrid(auto_prices, col=\"drive-wheels\")\n",
    "g.map(sns.regplot, \"engine-size\", \"price\", fit_reg = False)"
   ]
  },
  {
   "cell_type": "markdown",
   "metadata": {},
   "source": [
    "The above plot shows the relationship between pricec and engine size for cars with different drive wheel types. Rear wheel drive cars have the wides range of prices and are generally the most expensive. \n",
    "\n",
    "The code in the cell below extends our recipe to include a second dimension for our facet grid. Both a ``row`` and ``col`` agrument are specified for the ``FacetGrid`` method. "
   ]
  },
  {
   "cell_type": "code",
   "execution_count": null,
   "metadata": {
    "collapsed": false
   },
   "outputs": [],
   "source": [
    "g = sns.FacetGrid(auto_prices, col=\"drive-wheels\", row = 'body-style')\n",
    "g.map(sns.regplot, \"engine-size\", \"price\", fit_reg = False)"
   ]
  },
  {
   "cell_type": "markdown",
   "metadata": {},
   "source": [
    "There are four dimensions of the data set projected in the above plot. Some combinations of faceting variables have few or even no cars shown. You can draw a number of conclusions from this display including:\n",
    "\n",
    "- Hatch back and sedans with front wheel drive are clustered at the low end of the price range. \n",
    "- Rear wheel drive sedans and convertibles have a wide range of prices and are generally the most expensive. \n",
    "\n",
    "### Facet plots with aesthetics\n",
    "\n",
    "We can project other dimensions of our data set onto the two dimensions of our plot surface by using ashetics. The code in the cell below uses the ``hue`` argument to the ``FacetGrid`` method to add a fifth dimension to the scatter plot array. "
   ]
  },
  {
   "cell_type": "code",
   "execution_count": null,
   "metadata": {
    "collapsed": false
   },
   "outputs": [],
   "source": [
    "g = sns.FacetGrid(auto_prices, col=\"drive-wheels\", row = 'body-style', hue = 'fuel-type',  palette=\"Set2\")\n",
    "g.map(sns.regplot, 'engine-size', 'price', fit_reg = False)"
   ]
  },
  {
   "cell_type": "markdown",
   "metadata": {},
   "source": [
    "In the above plot the diesel cars are now highlighted. For the most part, there does not seem to be anything special about diesel cars in this projection. \n",
    "\n",
    "****\n",
    "#### Exercise\n",
    "\n",
    "Now its your turn to try some facetted plotting. Do the following:\n",
    "\n",
    "- Create a new code cell below.\n",
    "- Copy the code used for the previous example into the new cell.\n",
    "- Change the ``x`` axis variable to ``'city-mpg'``.\n",
    "- Examine the resulting plot. What new information is now apparent? \n",
    "****"
   ]
  },
  {
   "cell_type": "markdown",
   "metadata": {
    "collapsed": true
   },
   "source": [
    "## Summary\n",
    "\n",
    "We have covered a lot of ground in this tutorial. We have learned quite a bit about the relationships in the auto price data set by creating multiple views to visualize these data. \n",
    "\n",
    "Specifically, in this tutoral we have:\n",
    "\n",
    "- Examined the uses of and methods for creation of several basic plot types.\n",
    "- Used plot aesthetics to project additional dimensions onto a two dimensional plot surface, or to highlight aspects of the relationships in the data.\n",
    "- Used multi-axis and faceted plots to project additional dimensions onto the two dimensional plot surface. \n",
    "\n",
    "Finally, **have fun exploring your data!**"
   ]
  },
  {
   "cell_type": "code",
   "execution_count": null,
   "metadata": {
    "collapsed": true
   },
   "outputs": [],
   "source": []
  }
 ],
 "metadata": {
  "kernelspec": {
   "display_name": "Python 3",
   "language": "python",
   "name": "python3"
  },
  "language_info": {
   "codemirror_mode": {
    "name": "ipython",
    "version": 3
   },
   "file_extension": ".py",
   "mimetype": "text/x-python",
   "name": "python",
   "nbconvert_exporter": "python",
   "pygments_lexer": "ipython3",
   "version": "3.5.2"
  }
 },
 "nbformat": 4,
 "nbformat_minor": 0
}
